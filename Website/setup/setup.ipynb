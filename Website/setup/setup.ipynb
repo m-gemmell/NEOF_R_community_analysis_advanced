{
  "cells": [
    {
      "cell_type": "markdown",
      "metadata": {},
      "source": [
        "# Setup\n",
        "\n",
        "## Workshop directory\n",
        "\n",
        "Create and move into a new directory in your home directory called \"adv_R_comm\".\n",
        "\n",
        "\n",
        "```{bash, eval=FALSE}\n",
        "mkdir ~/adv_R_comm\n",
        "cd ~/adv_R_comm\n",
        "```"
      ],
      "id": "7e0e487e"
    }
  ],
  "metadata": {
    "kernelspec": {
      "display_name": "Python 3",
      "language": "python",
      "name": "python3"
    }
  },
  "nbformat": 4,
  "nbformat_minor": 5
}